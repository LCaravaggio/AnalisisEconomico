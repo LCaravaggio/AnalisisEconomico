{
  "nbformat": 4,
  "nbformat_minor": 0,
  "metadata": {
    "colab": {
      "name": "API Presupuesto Abierto.ipynb",
      "provenance": [],
      "authorship_tag": "ABX9TyOK9DJG25x8gGmHYq8R4H9q",
      "include_colab_link": true
    },
    "kernelspec": {
      "name": "python3",
      "display_name": "Python 3"
    },
    "language_info": {
      "name": "python"
    }
  },
  "cells": [
    {
      "cell_type": "markdown",
      "metadata": {
        "id": "view-in-github",
        "colab_type": "text"
      },
      "source": [
        "<a href=\"https://colab.research.google.com/github/LCaravaggio/AnalisisEconomico/blob/main/API_Presupuesto_Abierto.ipynb\" target=\"_parent\"><img src=\"https://colab.research.google.com/assets/colab-badge.svg\" alt=\"Open In Colab\"/></a>"
      ]
    },
    {
      "cell_type": "code",
      "execution_count": 4,
      "metadata": {
        "id": "Gz5NdBhYCNd0"
      },
      "outputs": [],
      "source": [
        "import requests\n",
        "from requests.auth import HTTPBasicAuth\n",
        "\n",
        "import pandas as pd\n",
        "\n",
        "import seaborn as sns"
      ]
    },
    {
      "cell_type": "code",
      "source": [
        "from google.colab import userdata\n",
        "import json\n",
        "\n",
        "user_key = userdata.get('PRESUPUESTO_KEY')"
      ],
      "metadata": {
        "id": "cW4TczD1LyDC"
      },
      "execution_count": 7,
      "outputs": []
    },
    {
      "cell_type": "code",
      "source": [
        "# Documentación: https://www.presupuestoabierto.gob.ar/api/\n",
        "\n",
        "url= 'https://www.presupuestoabierto.gob.ar/api/v1/credito'\n",
        "\n",
        "headers = {\"Authorization\": user_key, 'Content-Type': 'application/json'}\n",
        "\n",
        "data = {\n",
        "    \"title\": \"Credito vigente por jurisdiccion\",\n",
        "    \"columns\": [\n",
        "        \"servicio_id\",\n",
        "        \"servicio_desc\",\n",
        "        \"credito_vigente\"\n",
        "    ]\n",
        "}\n",
        "\n",
        "response = requests.post(url, headers=headers, json=data)"
      ],
      "metadata": {
        "id": "nCzJGqAFGIYi"
      },
      "execution_count": 8,
      "outputs": []
    },
    {
      "cell_type": "code",
      "source": [
        "print(response.text)"
      ],
      "metadata": {
        "colab": {
          "base_uri": "https://localhost:8080/"
        },
        "id": "SlSQLe9vGf-2",
        "outputId": "1909466f-9daa-4bb0-96f0-a2296a3587d0"
      },
      "execution_count": 9,
      "outputs": [
        {
          "output_type": "stream",
          "name": "stdout",
          "text": [
            "﻿servicio_id,servicio_desc,credito_vigente\n",
            "1,Auditoría General de la Nación,22364.969423\n",
            "101,Fundación Miguel Lillo,2828.044712\n",
            "103,Consejo Nacional de Investigaciones Científicas y Técnicas,199560.966647\n",
            "105,Comisión Nacional de Energía Atómica,90490.344035\n",
            "106,Comisión Nacional de Actividades Espaciales,19600.047784\n",
            "107,Administración de Parques Nacionales,33199.958968\n",
            "108,Instituto Nacional del Agua,3031.507641\n",
            "109,Sindicatura General de la Nación,7194.460006\n",
            "112,Autoridad Regulatoria Nuclear,6247.954762\n",
            "113,Teatro Nacional Cervantes,3310.82036\n",
            "114,Instituto Nacional de Asociativismo y Economía Social,14371.661215\n",
            "116,Biblioteca Nacional 'Doctor Mariano Moreno',12841.625466\n",
            "117,Instituto Nacional del Teatro,3104.714299\n",
            "118,Instituto Nacional de Asuntos Indígenas,2357.352003\n",
            "119,Instituto Nacional de Promoción Turística,11060.330409\n",
            "121,Banco Nacional de Datos Genéticos (BNDG),1090.683059\n",
            "173,\"Agencia Nacional de Promoción de la Investigación, el Desarrollo Tecnológico y la Innovación\",25143.370569\n",
            "200,Registro Nacional de las Personas (RENAPER),47591.817191\n",
            "201,Dirección Nacional de Migraciones,42726.414394\n",
            "202,\"Instituto Nacional contra la Discriminación, la Xenofobia y el Racismo\",2354.812228\n",
            "203,Agencia Nacional de Seguridad Vial,8016.012837\n",
            "205,Agencia de Administración de Bienes del Estado,5392.413291\n",
            "206,Centro Internacional para la Promoción de los Derechos Humanos,853.629587\n",
            "207,Ente Nacional de Comunicaciones,22792.5656\n",
            "208,Agencia Nacional de Materiales Controlados,1278.060017\n",
            "209,Agencia de Acceso a la Información Pública,989.69287\n",
            "250,\"Caja de Retiros, Jubilaciones y Pensiones de la Policía Federal Argentina\",780825.921078\n",
            "301,Secretaría General de la Presidencia de la Nación,21059.482123\n",
            "302,Agencia Federal de Inteligencia,15557.781584\n",
            "303,Secretaría de Políticas Integrales sobre Drogas de la Nación Argentina (SEDRONAR),19612.981394\n",
            "305,Jefatura de Gabinete de Ministros,48449.815675\n",
            "307,\"Ministerio de Relaciones Exteriores, Comercio Internacional y Culto\",188314.79902\n",
            "310,Ministerio de Salud,481323.69738\n",
            "311,Desarrollo Humano y Economia Solidaria,2079149.811621\n",
            "312,Honorable Senado de la Nación Argentina,66121.482326\n",
            "313,Honorable Cámara de Diputados de la Nación Argentina,84773.829542\n",
            "314,Biblioteca del Congreso de la Nación,18330.39015\n",
            "315,Imprenta del Congreso de la Nación,6000.910022\n",
            "316,Dirección de Ayuda Social para el Personal del Congreso de la Nación (DAS),15645.056812\n",
            "317,Ambiente,50574.036621\n",
            "319,Defensoría del Pueblo de la Nación,4717.566\n",
            "320,Consejo de la Magistratura,462542.621756\n",
            "321,Instituto Nacional de Estadística y Censos (INDEC),15624.389657\n",
            "322,Turismo y Deportes,73159.166253\n",
            "323,Comisión Nacional de Comercio Exterior (CNCE),510.456122\n",
            "325,Ministerio del Interior,249040.708559\n",
            "326,Policía Federal Argentina (PFA),295213.984665\n",
            "327,Secretaría de Transporte,596743.594701\n",
            "328,Secretaría de Energía,2244751.55071\n",
            "330,Secretaría de Educación,2477153.331851\n",
            "331,Servicio Penitenciario Federal,125229.682424\n",
            "332,Ministerio de Justicia,20762.367937\n",
            "334,Ente de Cooperación Técnica y Financiera del Servicio Penitenciario Federal,11560.653989\n",
            "335,Corte Suprema de Justicia de la Nación,67805.115\n",
            "336,\"Secretaría de Innovación, Ciencia y Tecnología\",79431.100246\n",
            "338,Secretaría Legal y Técnica,4492.497069\n",
            "340,Procuración Penitenciaria de la Nación,5614.816312\n",
            "341,\"Secretaría Nacional de Niñez, Adolescencia y Familia\",36797.364075\n",
            "343,Ministerio de Seguridad,78566.986627\n",
            "345,Consejo Nacional de Coordinación de Políticas Sociales,2746.441219\n",
            "346,Defensoría del Público de Servicios de Comunicación Audiovisual,1506.898467\n",
            "349,Procuración del Tesoro de la Nación,2000.316826\n",
            "350,\"Secretaría  de Trabajo, Empleo y Seguridad Social\",119738.306887\n",
            "355,Servicio de la Deuda Pública,4487857.72\n",
            "356,Obligaciones a Cargo del Tesoro,3138150.342122\n",
            "357,Ministerio de Economía,56711.277736\n",
            "360,Procuración General de la Nación,134421.809068\n",
            "361,Defensoría General de la Nación,77257.073119\n",
            "362,Secretaría de Industria y Desarrollo Productivo,322148.476558\n",
            "363,\"Secretaría de Agricultura, Ganadería y Pesca\",17069.898984\n",
            "364,Secretaría de Obras Públicas,409960.669569\n",
            "365,\"Secretaría de Desarrollo Territorial, Hábitat y Vivienda\",427034.297136\n",
            "368,Secretaría de Prensa,50562.403709\n",
            "369,Oficina de Presupuesto del Congreso,333.43\n",
            "370,Ministerio de Defensa (Gastos Propios),27911.438122\n",
            "371,Estado Mayor Conjunto de las Fuerzas Armadas (EMCO),11594.757956\n",
            "372,Instituto de Investigaciones Científicas y Técnicas para la Defensa (CITEDEF),3984.66232\n",
            "374,Estado Mayor General del Ejército Argentino (EMGE),445103.193795\n",
            "375,Gendarmería Nacional Argentina (GNA),421655.948859\n",
            "376,Subsecretaría de Planeamiento Operativo y Servicio Logístico de la Defensa,2671.581705\n",
            "377,Ministerio de Infraestructura,56837.743293\n",
            "379,Estado Mayor General de la Armada Argentina (EMGA),224727.02234\n",
            "380,Prefectura Naval Argentina (PNA),224082.813005\n",
            "381,Estado Mayor General de la Fuerza Aérea Argentina (EMGFA),193327.59286\n",
            "382,Policía de Seguridad Aeroportuaria (PSA),52654.879997\n",
            "385,\"Defensoría de los Derechos de las Niñas, Niños y Adolescentes\",3356.026659\n",
            "387,Comité Nacional para la Prevención de la Tortura (CNPT),1376.59366\n",
            "388,Ministerio de Capital Humano,141846.263018\n",
            "450,Instituto Geográfico Nacional,2441.03254\n",
            "452,Servicio Meteorológico Nacional,9556.939493\n",
            "470,Instituto de Ayuda Financiera para Pago de Retiros y Pensiones Militares,546572.971715\n",
            "602,Comisión Nacional de Valores,4700.739314\n",
            "603,Superintendencia de Seguros de la Nación,10250.410729\n",
            "604,Dirección Nacional de Vialidad,473496.849216\n",
            "606,Instituto Nacional de Tecnología Agropecuaria,88868.415765\n",
            "607,Instituto Nacional de Investigación y Desarrollo Pesquero,6588.880548\n",
            "608,Instituto Nacional de Tecnología Industrial,31160.996823\n",
            "609,Instituto Nacional de Vitivinicultura,7006.968772\n",
            "612,Tribunal de Tasaciones de la Nación,1123.88411\n",
            "613,Ente Nacional de Obras Hídricas de Saneamiento,79201.07677\n",
            "614,Instituto Nacional de Semillas,4248.378588\n",
            "620,Tribunal Fiscal de la Nación,4131.756372\n",
            "622,Instituto Nacional de la Propiedad Industrial,5032.536494\n",
            "623,Servicio Nacional de Sanidad y Calidad Agroalimentaria,72147.988655\n",
            "624,Servicio Geológico Minero Argentino,3968.030497\n",
            "651,Ente Nacional Regulador del Gas,20065.359865\n",
            "652,Ente Nacional Regulador de la Electricidad,4821.291727\n",
            "656,Organismo Regulador de Seguridad de Presas,974.03671\n",
            "661,Comisión Nacional de Regulación del Transporte,14398.74644\n",
            "664,Organismo Regulador del Sistema Nacional de Aeropuertos,3544.600492\n",
            "669,Administración Nacional de Aviación Civil,20508.051634\n",
            "670,Unidad de Información Financiera,3546.606757\n",
            "671,Junta de Seguridad en el Transporte,8077.505463\n",
            "672,Ente Nacional de Control y Gestión de la Vía Navegable,100.12677\n",
            "802,Fondo Nacional de las Artes,1507.252421\n",
            "804,Comisión Nacional de Evaluación y Acreditación Universitaria,1666.389216\n",
            "850,Administración Nacional de la Seguridad Social,14857478.750916\n",
            "852,Superintendencia de Riesgos del Trabajo,4159.088633\n",
            "902,Hospital Nacional en Red Especializado en Salud Mental y Adicciones 'Licenciada Laura Bonaparte',6691.456791\n",
            "903,Hospital Nacional Dr. Baldomero Sommer,12829.313798\n",
            "904,\"Administración Nacional de Medicamentos, Alimentos y Tecnología Médica\",14191.017741\n",
            "905,Instituto Nacional Central Único Coordinador de Ablación e Implante,8732.813805\n",
            "906,Administración Nacional de Laboratorios e Institutos de Salud Dr. Carlos G. Malbrán,14600.535903\n",
            "908,Hospital Nacional Profesor Alejandro Posadas,62351.004169\n",
            "909,Hospital Nacional y Comunidad 'Dr. Ramón Carrillo',11264.81469\n",
            "910,Instituto Nacional de Rehabilitación Psicofísica del Sur Dr. Juan Otimio Tesone,4501.197276\n",
            "914,Superintendencia de Servicios de Salud,93965.223442\n",
            "915,Instituto Nacional del Cáncer (INC),3066.427821\n",
            "917,Agencia Nacional de Discapacidad,1352607.694206\n",
            "\n"
          ]
        }
      ]
    }
  ]
}