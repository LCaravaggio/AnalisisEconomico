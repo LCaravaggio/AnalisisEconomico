{
  "nbformat": 4,
  "nbformat_minor": 0,
  "metadata": {
    "colab": {
      "name": "API Presupuesto Abierto.ipynb",
      "provenance": [],
      "authorship_tag": "ABX9TyPs2t9mSBO+ykOqv42hBw5c",
      "include_colab_link": true
    },
    "kernelspec": {
      "name": "python3",
      "display_name": "Python 3"
    },
    "language_info": {
      "name": "python"
    }
  },
  "cells": [
    {
      "cell_type": "markdown",
      "metadata": {
        "id": "view-in-github",
        "colab_type": "text"
      },
      "source": [
        "<a href=\"https://colab.research.google.com/github/LCaravaggio/AnalisisEconomico/blob/main/API_Presupuesto_Abierto.ipynb\" target=\"_parent\"><img src=\"https://colab.research.google.com/assets/colab-badge.svg\" alt=\"Open In Colab\"/></a>"
      ]
    },
    {
      "cell_type": "code",
      "execution_count": 1,
      "metadata": {
        "id": "Gz5NdBhYCNd0"
      },
      "outputs": [],
      "source": [
        "from google.colab import drive\n",
        "import json\n",
        "\n",
        "import requests\n",
        "from requests.auth import HTTPBasicAuth\n",
        "\n",
        "import pandas as pd\n",
        "\n",
        "import seaborn as sns"
      ]
    },
    {
      "cell_type": "code",
      "source": [
        "drive.mount('/content/drive', force_remount=True)\n",
        "with open(\"/content/drive/My Drive/presupuestoabierto.json\", 'r') as f:\n",
        "    api_token= json.load(f)"
      ],
      "metadata": {
        "colab": {
          "base_uri": "https://localhost:8080/"
        },
        "id": "IqkHovl1DHLu",
        "outputId": "55a6daea-b99e-43b4-a01f-4461691b519a"
      },
      "execution_count": 2,
      "outputs": [
        {
          "output_type": "stream",
          "name": "stdout",
          "text": [
            "Mounted at /content/drive\n"
          ]
        }
      ]
    },
    {
      "cell_type": "code",
      "source": [
        "# Definir user key para la API\n",
        "user_key = api_token[\"key\"]"
      ],
      "metadata": {
        "id": "A_2x7lzLDSE6"
      },
      "execution_count": 16,
      "outputs": []
    },
    {
      "cell_type": "code",
      "source": [
        "url= 'https://www.presupuestoabierto.gob.ar/api/v1/credito'\n",
        "\n",
        "headers = {\"Authorization\": user_key, 'Content-Type': 'application/json'}\n",
        " \n",
        "data = {\n",
        "    \"title\": \"Credito vigente por jurisdiccion\",\n",
        "    \"columns\": [\n",
        "        \"servicio_id\",\n",
        "        \"servicio_desc\",\n",
        "        \"credito_vigente\"\n",
        "    ]\n",
        "}\n",
        " \n",
        "response = requests.post(url, headers=headers, json=data)"
      ],
      "metadata": {
        "id": "nCzJGqAFGIYi"
      },
      "execution_count": 24,
      "outputs": []
    },
    {
      "cell_type": "code",
      "source": [
        "response.text"
      ],
      "metadata": {
        "colab": {
          "base_uri": "https://localhost:8080/",
          "height": 70
        },
        "id": "SlSQLe9vGf-2",
        "outputId": "d9d83e70-0ef9-497e-9f50-3339e9ea208c"
      },
      "execution_count": 25,
      "outputs": [
        {
          "output_type": "execute_result",
          "data": {
            "application/vnd.google.colaboratory.intrinsic+json": {
              "type": "string"
            },
            "text/plain": [
              "'<!doctype html><html lang=\"en\"><head><title>HTTP Status 500 – Internal Server Error</title><style type=\"text/css\">body {font-family:Tahoma,Arial,sans-serif;} h1, h2, h3, b {color:white;background-color:#525D76;} h1 {font-size:22px;} h2 {font-size:16px;} h3 {font-size:14px;} p {font-size:12px;} a {color:black;} .line {height:1px;background-color:#525D76;border:none;}</style></head><body><h1>HTTP Status 500 – Internal Server Error</h1></body></html>'"
            ]
          },
          "metadata": {},
          "execution_count": 25
        }
      ]
    }
  ]
}