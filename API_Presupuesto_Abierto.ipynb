{
  "nbformat": 4,
  "nbformat_minor": 0,
  "metadata": {
    "colab": {
      "name": "API Presupuesto Abierto.ipynb",
      "provenance": [],
      "authorship_tag": "ABX9TyOK9DJG25x8gGmHYq8R4H9q",
      "include_colab_link": true
    },
    "kernelspec": {
      "name": "python3",
      "display_name": "Python 3"
    },
    "language_info": {
      "name": "python"
    }
  },
  "cells": [
    {
      "cell_type": "markdown",
      "metadata": {
        "id": "view-in-github",
        "colab_type": "text"
      },
      "source": [
        "<a href=\"https://colab.research.google.com/github/LCaravaggio/AnalisisEconomico/blob/main/API_Presupuesto_Abierto.ipynb\" target=\"_parent\"><img src=\"https://colab.research.google.com/assets/colab-badge.svg\" alt=\"Open In Colab\"/></a>"
      ]
    },
    {
      "cell_type": "code",
      "execution_count": 1,
      "metadata": {
        "id": "Gz5NdBhYCNd0"
      },
      "outputs": [],
      "source": [
        "import requests\n",
        "from requests.auth import HTTPBasicAuth\n",
        "\n",
        "import pandas as pd\n",
        "\n",
        "import seaborn as sns"
      ]
    },
    {
      "cell_type": "code",
      "source": [
        "from google.colab import userdata\n",
        "import json\n",
        "\n",
        "user_key = userdata.get('PRESUPUESTO_KEY')"
      ],
      "metadata": {
        "id": "cW4TczD1LyDC"
      },
      "execution_count": 2,
      "outputs": []
    },
    {
      "cell_type": "code",
      "source": [
        "# Documentación: https://www.presupuestoabierto.gob.ar/api/\n",
        "\n",
        "url= 'https://www.presupuestoabierto.gob.ar/api/v1/credito'\n",
        "\n",
        "headers = {\"Authorization\": user_key, 'Content-Type': 'application/json'}\n",
        "\n",
        "data = {\n",
        "    \"title\": \"Credito vigente por jurisdiccion\",\n",
        "    \"columns\": [\n",
        "        \"servicio_id\",\n",
        "        \"servicio_desc\",\n",
        "        \"credito_vigente\"\n",
        "    ]\n",
        "}\n",
        "\n",
        "response = requests.post(url, headers=headers, json=data)"
      ],
      "metadata": {
        "id": "nCzJGqAFGIYi"
      },
      "execution_count": 3,
      "outputs": []
    },
    {
      "cell_type": "code",
      "source": [
        "print(response.text)"
      ],
      "metadata": {
        "colab": {
          "base_uri": "https://localhost:8080/"
        },
        "id": "SlSQLe9vGf-2",
        "outputId": "db5d1f89-b774-49e4-f360-18311ff17d6e"
      },
      "execution_count": 4,
      "outputs": [
        {
          "output_type": "stream",
          "name": "stdout",
          "text": [
            "﻿servicio_id,servicio_desc,credito_vigente\n",
            "1,Auditoría General de la Nación,60324.267145\n",
            "101,Fundación Miguel Lillo,6804.703921\n",
            "103,Consejo Nacional de Investigaciones Científicas y Técnicas,507413.443501\n",
            "105,Comisión Nacional de Energía Atómica,206735.123078\n",
            "106,Comisión Nacional de Actividades Espaciales,51778.135949\n",
            "107,Administración de Parques Nacionales,71142.158639\n",
            "108,Instituto Nacional del Agua,7314.532954\n",
            "109,Sindicatura General de la Nación,18837.460006\n",
            "112,Autoridad Regulatoria Nuclear,15290.499097\n",
            "113,Teatro Nacional Cervantes,8940.294857\n",
            "114,Instituto Nacional de Asociativismo y Economía Social,19632.372112\n",
            "116,Biblioteca Nacional 'Doctor Mariano Moreno',25271.404352\n",
            "117,Instituto Nacional del Teatro,6425.748555\n",
            "118,Instituto Nacional de Asuntos Indígenas,4847.212217\n",
            "119,Instituto Nacional de Promoción Turística,12143.423207\n",
            "121,Banco Nacional de Datos Genéticos (BNDG),2172.901927\n",
            "173,\"Agencia Nacional de Promoción de la Investigación, el Desarrollo Tecnológico y la Innovación\",17182.924484\n",
            "200,Registro Nacional de las Personas (RENAPER),147601.445894\n",
            "201,Dirección Nacional de Migraciones,108315.500672\n",
            "203,Agencia Nacional de Seguridad Vial,16261.852822\n",
            "205,Agencia de Administración de Bienes del Estado,11141.499786\n",
            "206,Centro Internacional para la Promoción de los Derechos Humanos,1147.52018\n",
            "207,Ente Nacional de Comunicaciones,64066.806412\n",
            "208,Agencia Nacional de Materiales Controlados,3046.013397\n",
            "209,Agencia de Acceso a la Información Pública,2336.545958\n",
            "250,\"Caja de Retiros, Jubilaciones y Pensiones de la Policía Federal Argentina\",2012158.3877\n",
            "301,Secretaría General de la Presidencia de la Nación,49513.283924\n",
            "302,Secretaría de Inteligencia de Estado,55622.560225\n",
            "303,Secretaría de Políticas Integrales sobre Drogas de la Nación Argentina (SEDRONAR),41782.325653\n",
            "305,Vicejefatura de Gabinete Ejecutiva,42034.939733\n",
            "307,\"Ministerio de Relaciones Exteriores, Comercio Internacional y Culto\",520578.52239\n",
            "310,Ministerio de Salud,1020385.677471\n",
            "311,\"Secretaría Nacional de Niñez, Adolescencia y Familia\",2825628.015266\n",
            "312,Honorable Senado de la Nación Argentina,160758.993355\n",
            "313,Honorable Cámara de Diputados de la Nación Argentina,189747.08662\n",
            "314,Biblioteca del Congreso de la Nación,40765.19068\n",
            "315,Imprenta del Congreso de la Nación,11597.910022\n",
            "316,Dirección de Ayuda Social para el Personal del Congreso de la Nación (DAS),49788.057475\n",
            "317,Ambiente,81063.051688\n",
            "319,Defensoría del Pueblo de la Nación,10768.496\n",
            "320,Consejo de la Magistratura,1242537.334203\n",
            "321,Instituto Nacional de Estadística y Censos (INDEC),33574.492214\n",
            "322,Turismo y Deportes,65909.074846\n",
            "325,Vicejefatura de Gabinete del Interior,341237.646284\n",
            "326,Policía Federal Argentina (PFA),709026.352958\n",
            "330,Secretaría de Educación,4590474.645038\n",
            "331,Servicio Penitenciario Federal,329776.604594\n",
            "332,Ministerio de Justicia,147431.877457\n",
            "334,Ente de Cooperación Técnica y Financiera del Servicio Penitenciario Federal,25721.747525\n",
            "335,Corte Suprema de Justicia de la Nación,187448.554626\n",
            "336,\"Secretaría de Innovación, Ciencia y Tecnología\",133928.579436\n",
            "337,Secretaría de Cultura,94765.470691\n",
            "338,Secretaría Legal y Técnica,9941.497069\n",
            "340,Procuración Penitenciaria de la Nación,13413.232736\n",
            "343,Ministerio de Seguridad Nacional,239915.395465\n",
            "345,Consejo Nacional de Coordinación de Políticas Sociales,4956.82072\n",
            "346,Defensoría del Público de Servicios de Comunicación Audiovisual,5562.406797\n",
            "349,Procuración del Tesoro de la Nación,5052.526951\n",
            "350,\"Secretaría de Trabajo, Empleo y Seguridad Social\",843925.825441\n",
            "355,Servicio de la Deuda Pública,10299240.690453\n",
            "356,Obligaciones a Cargo del Tesoro,8435290.228706\n",
            "357,Ministerio de Economía,3035527.412611\n",
            "360,Procuración General de la Nación,372913.487397\n",
            "361,Defensoría General de la Nación,203529.418772\n",
            "362,Secretaría de Industria y Desarrollo Productivo,306828.774265\n",
            "368,Secretaría de Comunicación y Medios,25412.859403\n",
            "369,Oficina de Presupuesto del Congreso,1073.908\n",
            "370,Ministerio de Defensa (Gastos Propios),37501.218766\n",
            "371,Estado Mayor Conjunto de las Fuerzas Armadas (EMCO),45995.43689\n",
            "372,Instituto de Investigaciones Científicas y Técnicas para la Defensa (CITEDEF),10405.17545\n",
            "374,Estado Mayor General del Ejército Argentino (EMGE),1247368.475377\n",
            "375,Gendarmería Nacional Argentina (GNA),978396.100746\n",
            "376,Subsecretaría de Planeamiento Operativo y Servicio Logístico de la Defensa,146.968672\n",
            "377,Infraestructura Económica y Social,1508690.194031\n",
            "379,Estado Mayor General de la Armada Argentina (EMGA),601969.389706\n",
            "380,Prefectura Naval Argentina (PNA),514529.742619\n",
            "381,Estado Mayor General de la Fuerza Aérea Argentina (EMGFA),511510.894153\n",
            "382,Policía de Seguridad Aeroportuaria (PSA),134104.485975\n",
            "385,\"Defensoría de los Derechos de las Niñas, Niños y Adolescentes\",7254.943914\n",
            "387,Comité Nacional para la Prevención de la Tortura (CNPT),3404.73559\n",
            "388,Ministerio de Capital Humano,6167.39512\n",
            "389,Ministerio de Desregulación y Transformación del Estado,13254.515002\n",
            "450,Instituto Geográfico Nacional,6219.246171\n",
            "452,Servicio Meteorológico Nacional,21994.737985\n",
            "470,Instituto de Ayuda Financiera para Pago de Retiros y Pensiones Militares,1435547.119651\n",
            "602,Comisión Nacional de Valores,14974.359373\n",
            "603,Superintendencia de Seguros de la Nación,29074.648239\n",
            "604,Dirección Nacional de Vialidad,439015.689287\n",
            "606,Instituto Nacional de Tecnología Agropecuaria,224356.829221\n",
            "607,Instituto Nacional de Investigación y Desarrollo Pesquero,18330.735269\n",
            "608,Instituto Nacional de Tecnología Industrial,85628.703793\n",
            "609,Instituto Nacional de Vitivinicultura,14073.74178\n",
            "612,Tribunal de Tasaciones de la Nación,2858.659672\n",
            "614,Instituto Nacional de Semillas,21280.45842\n",
            "620,Tribunal Fiscal de la Nación,10565.821251\n",
            "622,Instituto Nacional de la Propiedad Industrial,12432.536494\n",
            "623,Servicio Nacional de Sanidad y Calidad Agroalimentaria,164195.307446\n",
            "624,Servicio Geológico Minero Argentino,10042.851808\n",
            "651,Ente Nacional Regulador del Gas,50121.230255\n",
            "652,Ente Nacional Regulador de la Electricidad,15999.404395\n",
            "656,Organismo Regulador de Seguridad de Presas,2270.118016\n",
            "661,Comisión Nacional de Regulación del Transporte,32590.512867\n",
            "664,Organismo Regulador del Sistema Nacional de Aeropuertos,9450.925796\n",
            "669,Administración Nacional de Aviación Civil,55480.553244\n",
            "670,Unidad de Información Financiera,8182.486403\n",
            "671,Junta de Seguridad en el Transporte,13582.412125\n",
            "802,Fondo Nacional de las Artes,3147.298529\n",
            "804,Comisión Nacional de Evaluación y Acreditación Universitaria,4792.245802\n",
            "850,Administración Nacional de la Seguridad Social,41765124.027209\n",
            "852,Superintendencia de Riesgos del Trabajo,11187.661185\n",
            "902,Hospital Nacional en Red Especializado en Salud Mental y Adicciones 'Licenciada Laura Bonaparte',16815.790654\n",
            "903,Hospital Nacional Dr. Baldomero Sommer,38014.851892\n",
            "904,\"Administración Nacional de Medicamentos, Alimentos y Tecnología Médica\",39568.187913\n",
            "905,Instituto Nacional Central Único Coordinador de Ablación e Implante,37244.127898\n",
            "906,Administración Nacional de Laboratorios e Institutos de Salud Dr. Carlos G. Malbrán,41715.243148\n",
            "908,Hospital Nacional Profesor Alejandro Posadas,171976.001208\n",
            "909,Hospital Nacional y Comunidad 'Dr. Ramón Carrillo',29483.527121\n",
            "910,Instituto Nacional de Rehabilitación Psicofísica del Sur Dr. Juan Otimio Tesone,11240.829814\n",
            "914,Superintendencia de Servicios de Salud,109022.556541\n",
            "915,Instituto Nacional del Cáncer (INC),4999.027821\n",
            "917,Agencia Nacional de Discapacidad,3749056.120716\n",
            "\n"
          ]
        }
      ]
    }
  ]
}