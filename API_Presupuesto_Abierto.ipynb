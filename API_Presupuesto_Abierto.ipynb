{
  "nbformat": 4,
  "nbformat_minor": 0,
  "metadata": {
    "colab": {
      "name": "API Presupuesto Abierto.ipynb",
      "provenance": [],
      "authorship_tag": "ABX9TyNN75qjLqst6aloc9ZbGEyh",
      "include_colab_link": true
    },
    "kernelspec": {
      "name": "python3",
      "display_name": "Python 3"
    },
    "language_info": {
      "name": "python"
    }
  },
  "cells": [
    {
      "cell_type": "markdown",
      "metadata": {
        "id": "view-in-github",
        "colab_type": "text"
      },
      "source": [
        "<a href=\"https://colab.research.google.com/github/LCaravaggio/AnalisisEconomico/blob/main/API_Presupuesto_Abierto.ipynb\" target=\"_parent\"><img src=\"https://colab.research.google.com/assets/colab-badge.svg\" alt=\"Open In Colab\"/></a>"
      ]
    },
    {
      "cell_type": "code",
      "execution_count": 1,
      "metadata": {
        "id": "Gz5NdBhYCNd0"
      },
      "outputs": [],
      "source": [
        "from google.colab import drive\n",
        "import json\n",
        "\n",
        "import requests\n",
        "from requests.auth import HTTPBasicAuth\n",
        "\n",
        "import pandas as pd\n",
        "\n",
        "import seaborn as sns"
      ]
    },
    {
      "cell_type": "code",
      "source": [
        "drive.mount('/content/drive', force_remount=True)\n",
        "with open(\"/content/drive/My Drive/presupuestoabierto.json\", 'r') as f:\n",
        "    api_token= json.load(f)"
      ],
      "metadata": {
        "colab": {
          "base_uri": "https://localhost:8080/"
        },
        "id": "IqkHovl1DHLu",
        "outputId": "1896e1ac-211a-48c0-d79a-cb3ab8399d03"
      },
      "execution_count": 2,
      "outputs": [
        {
          "output_type": "stream",
          "name": "stdout",
          "text": [
            "Mounted at /content/drive\n"
          ]
        }
      ]
    },
    {
      "cell_type": "code",
      "source": [
        "# Definir user key para la API\n",
        "user_key = api_token[\"key\"]"
      ],
      "metadata": {
        "id": "A_2x7lzLDSE6"
      },
      "execution_count": 3,
      "outputs": []
    },
    {
      "cell_type": "code",
      "source": [
        "url= 'https://www.presupuestoabierto.gob.ar/api/v1/credito'\n",
        "\n",
        "headers = {\"Authorization\": user_key, 'Content-Type': 'application/json'}\n",
        " \n",
        "data = {\n",
        "    \"title\": \"Credito vigente por jurisdiccion\",\n",
        "    \"columns\": [\n",
        "        \"servicio_id\",\n",
        "        \"servicio_desc\",\n",
        "        \"credito_vigente\"\n",
        "    ]\n",
        "}\n",
        " \n",
        "response = requests.post(url, headers=headers, json=data)"
      ],
      "metadata": {
        "id": "nCzJGqAFGIYi"
      },
      "execution_count": 6,
      "outputs": []
    },
    {
      "cell_type": "code",
      "source": [
        "print(response.text)"
      ],
      "metadata": {
        "colab": {
          "base_uri": "https://localhost:8080/"
        },
        "id": "SlSQLe9vGf-2",
        "outputId": "5b175268-0f04-4b81-8e0a-7052f9200d10"
      },
      "execution_count": 19,
      "outputs": [
        {
          "output_type": "stream",
          "name": "stdout",
          "text": [
            "﻿servicio_id,servicio_desc,credito_vigente\n",
            "1,Auditoría General de la Nación,5876.632745\n",
            "101,Fundación Miguel Lillo,647.065\n",
            "103,Consejo Nacional de Investigaciones Científicas y Técnicas,41132.10907\n",
            "105,Comisión Nacional de Energía Atómica,21660.939043\n",
            "106,Comisión Nacional de Actividades Espaciales,7725.445436\n",
            "107,Administración de Parques Nacionales,5223.484364\n",
            "108,Instituto Nacional del Agua,647.675336\n",
            "109,Sindicatura General de la Nación,1672.652364\n",
            "112,Autoridad Regulatoria Nuclear,1511.600767\n",
            "113,Teatro Nacional Cervantes,785.844823\n",
            "114,Instituto Nacional de Asociativismo y Economía Social,3696.023188\n",
            "116,Biblioteca Nacional 'Doctor Mariano Moreno',2469.113758\n",
            "117,Instituto Nacional del Teatro,1236.7175\n",
            "118,Instituto Nacional de Asuntos Indígenas,493.766025\n",
            "119,Instituto Nacional de Promoción Turística,1485.939\n",
            "121,Banco Nacional de Datos Genéticos (BNDG),340.710397\n",
            "173,\"Agencia Nacional de Promoción de la Investigación, el Desarrollo Tecnológico y la Innovación\",5942.700572\n",
            "200,Registro Nacional de las Personas (RENAPER),9251.605354\n",
            "201,Dirección Nacional de Migraciones,10177.560621\n",
            "202,\"Instituto Nacional contra la Discriminación, la Xenofobia y el Racismo\",461.25584\n",
            "203,Agencia Nacional de Seguridad Vial,1846.720236\n",
            "205,Agencia de Administración de Bienes del Estado,1613.278831\n",
            "206,Centro Internacional para la Promoción de los Derechos Humanos,56.291758\n",
            "207,Ente Nacional de Comunicaciones,6458.099362\n",
            "208,Agencia Nacional de Materiales Controlados,323.033\n",
            "209,Agencia de Acceso a la Información Pública,99.858294\n",
            "250,\"Caja de Retiros, Jubilaciones y Pensiones de la Policía Federal Argentina\",157414.167656\n",
            "301,Secretaría General de la Presidencia de la Nación,7921.975006\n",
            "302,Agencia Federal de Inteligencia,4437.175295\n",
            "303,Secretaría de Políticas Integrales sobre Drogas de la Nación Argentina (SEDRONAR),4718.692558\n",
            "305,Jefatura de Gabinete de Ministros,4828.661036\n",
            "307,\"Ministerio de Relaciones Exteriores, Comercio Internacional y Culto\",45414.5421\n",
            "310,Ministerio de Salud,229219.11431\n",
            "311,Ministerio de Desarrollo Social,523820.559581\n",
            "312,Honorable Senado de la Nación Argentina,19422.708148\n",
            "313,Honorable Cámara de Diputados de la Nación Argentina,20325.129067\n",
            "314,Biblioteca del Congreso de la Nación,4905.010035\n",
            "315,Imprenta del Congreso de la Nación,1457.944485\n",
            "316,Dirección de Ayuda Social para el Personal del Congreso de la Nación (DAS),3800.382796\n",
            "317,Ministerio de Ambiente y Desarrollo Sostenible,16028.747958\n",
            "319,Defensoría del Pueblo de la Nación,1391.585\n",
            "320,Consejo de la Magistratura,112168.868613\n",
            "321,Instituto Nacional de Estadística y Censos,10603.642364\n",
            "322,Ministerio de Turismo y Deportes,44607.635281\n",
            "323,Comisión Nacional de Comercio Exterior,134.809403\n",
            "325,Ministerio del Interior,53068.528626\n",
            "326,Policía Federal Argentina,73776.674344\n",
            "327,Ministerio de Transporte,147345.816878\n",
            "328,Secretaría de Energía,897095.484853\n",
            "330,Ministerio de Educación,497419.946473\n",
            "331,Servicio Penitenciario Federal,31513.217021\n",
            "332,Ministerio de Justicia y Derechos Humanos,7159.874291\n",
            "334,Ente de Cooperación Técnica y Financiera del Servicio Penitenciario Federal,2617.467049\n",
            "335,Corte Suprema de Justicia de la Nación,16931.775036\n",
            "336,\"Ministerio de Ciencia, Tecnología e Innovación\",5711.808086\n",
            "337,Ministerio de Cultura,17929.145111\n",
            "338,Secretaría Legal y Técnica,1100.473812\n",
            "340,Procuración Penitenciaria de la Nación,1107.25\n",
            "341,\"Secretaría Nacional de Niñez, Adolescencia y Familia\",7250.443785\n",
            "343,Ministerio de Seguridad,14344.160477\n",
            "345,Consejo Nacional de Coordinación de Políticas Sociales,1203.329983\n",
            "346,Defensoría del Público de Servicios de Comunicación Audiovisual,383.698058\n",
            "347,Secretaría de Medios y Comunicación Pública,5339.378415\n",
            "349,Procuración del Tesoro de la Nación,850.968124\n",
            "350,\"Ministerio de Trabajo, Empleo y Seguridad Social\",64177.071381\n",
            "355,Servicio de la Deuda Pública,774959\n",
            "356,Obligaciones a Cargo del Tesoro,853148.977446\n",
            "357,Ministerio de Economía,9482.91332\n",
            "360,Procuración General de la Nación,31221.394873\n",
            "361,Defensoría General de la Nación,17830.808844\n",
            "362,Ministerio de Desarrollo Productivo,126061.112833\n",
            "363,\"Ministerio de Agricultura, Ganadería y Pesca\",24745.107231\n",
            "364,Ministerio de Obras Públicas,137682.605386\n",
            "365,Ministerio de Desarrollo Territorial y Hábitat,303820.287011\n",
            "366,Secretaría de Innovación Pública,7048.210758\n",
            "368,Secretaría de Comunicación y Prensa,1093.810237\n",
            "369,Oficina de Presupuesto del Congreso,87.715\n",
            "370,Ministerio de Defensa (Gastos Propios),7953.303564\n",
            "371,Estado Mayor Conjunto de las Fuerzas Armadas (EMCO),3311.723009\n",
            "372,Instituto de Investigaciones Científicas y Técnicas para la Defensa (CITEDEF),852.698452\n",
            "374,Estado Mayor General del Ejército Argentino,101831.60716\n",
            "375,Gendarmería Nacional,87790.703476\n",
            "376,Subsecretaría de Planeamiento Operativo y Servicio Logístico de la Defensa,65.050302\n",
            "379,Estado Mayor General de la Armada Argentina,53593.069519\n",
            "380,Prefectura Naval Argentina,46177.811743\n",
            "381,Estado Mayor General de la Fuerza Aérea Argentina,47351.069932\n",
            "382,Policía de Seguridad Aeroportuaria,9996.591183\n",
            "385,\"Defensoría de los Derechos de las Niñas, Niños y Adolescentes\",376.754636\n",
            "386,\"Ministerio de las Mujeres, Géneros y Diversidad\",17582.865594\n",
            "450,Instituto Geográfico Nacional,461.170844\n",
            "452,Servicio Meteorológico Nacional,1874.123833\n",
            "470,Instituto de Ayuda Financiera para Pago de Retiros y Pensiones Militares,121647.675329\n",
            "602,Comisión Nacional de Valores,1183.762\n",
            "603,Superintendencia de Seguros de la Nación,1658.193654\n",
            "604,Dirección Nacional de Vialidad,174447.350778\n",
            "606,Instituto Nacional de Tecnología Agropecuaria,16762.147791\n",
            "607,Instituto Nacional de Investigación y Desarrollo Pesquero,1158.710901\n",
            "608,Instituto Nacional de Tecnología Industrial,7308.243202\n",
            "609,Instituto Nacional de Vitivinicultura,1071.711214\n",
            "612,Tribunal de Tasaciones de la Nación,179.744882\n",
            "613,Ente Nacional de Obras Hídricas de Saneamiento,38288.361684\n",
            "614,Instituto Nacional de Semillas,943.839539\n",
            "620,Tribunal Fiscal de la Nación,741.252296\n",
            "622,Instituto Nacional de la Propiedad Industrial,1293.61147\n",
            "623,Servicio Nacional de Sanidad y Calidad Agroalimentaria,15271.111444\n",
            "624,Servicio Geológico Minero Argentino,955.335199\n",
            "651,Ente Nacional Regulador del Gas,4202.714945\n",
            "652,Ente Nacional Regulador de la Electricidad,1269.000123\n",
            "656,Organismo Regulador de Seguridad de Presas,231.813318\n",
            "661,Comisión Nacional de Regulación del Transporte,2545.56085\n",
            "664,Organismo Regulador del Sistema Nacional de Aeropuertos,942.54819\n",
            "669,Administración Nacional de Aviación Civil,4684.256816\n",
            "670,Unidad de Información Financiera,734.463147\n",
            "671,Junta de Seguridad en el Transporte,1513.647788\n",
            "802,Fondo Nacional de las Artes,682.086043\n",
            "804,Comisión Nacional de Evaluación y Acreditación Universitaria,395.342399\n",
            "850,Administración Nacional de la Seguridad Social,4138151.978777\n",
            "852,Superintendencia de Riesgos del Trabajo,1074.1612\n",
            "902,Hospital Nacional en Red Especializado en Salud Mental y Adicciones 'Licenciada Laura Bonaparte',969.46049\n",
            "903,Hospital Nacional Dr. Baldomero Sommer,2769.041828\n",
            "904,\"Administración Nacional de Medicamentos, Alimentos y Tecnología Médica\",3023.131\n",
            "905,Instituto Nacional Central Único Coordinador de Ablación e Implante,1711.595051\n",
            "906,Administración Nacional de Laboratorios e Institutos de Salud Dr. Carlos G. Malbrán,4069.472607\n",
            "908,Hospital Nacional Profesor Alejandro Posadas,12924.32918\n",
            "909,Colonia Nacional Dr. Manuel A. Montes de Oca,2019.794147\n",
            "910,Instituto Nacional de Rehabilitación Psicofísica del Sur Dr. Juan Otimio Tesone,923.297937\n",
            "914,Superintendencia de Servicios de Salud,47520.882953\n",
            "915,Instituto Nacional del Cáncer (INC),250.259248\n",
            "916,Agencia Nacional de Laboratorios Públicos (ANLAP),274.474186\n",
            "917,Agencia Nacional de Discapacidad,302626.327479\n",
            "\n"
          ]
        }
      ]
    }
  ]
}